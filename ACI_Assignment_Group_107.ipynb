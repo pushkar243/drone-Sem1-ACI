{
  "cells": [
    {
      "cell_type": "markdown",
      "metadata": {
        "id": "MzZ4dJQYF7sH"
      },
      "source": [
        "# Artificial and Computational Intelligence Assignment 1"
      ]
    },
    {
      "cell_type": "markdown",
      "metadata": {
        "id": "Fxb1aE9zF7sK"
      },
      "source": [
        "## Problem solving by Uninformed & Informed Search"
      ]
    },
    {
      "attachments": {},
      "cell_type": "markdown",
      "metadata": {
        "id": "h35jIBbCF7sK"
      },
      "source": [
        "List only the BITS (Name) of active contributors in this assignment:\n",
        "1. Kulkarni Sudhanva Prasad (2022AC05006)\n",
        "2. Pushkar Kumar Verma (2022AC05272)\n",
        "3. Priyesh Joshi (2022AC05382)\n",
        "4. Irfan Jahangeer Pathan (2022AC05691)"
      ]
    },
    {
      "cell_type": "markdown",
      "metadata": {
        "id": "pt5ygv_zF7sL"
      },
      "source": [
        "Things to follow\n",
        "1.\tUse appropriate data structures to represent the graph and the path using python libraries\n",
        "2.\tProvide proper documentation\n",
        "3.\tFind the path and print it"
      ]
    },
    {
      "cell_type": "markdown",
      "metadata": {
        "id": "wZfop5ElF7sL"
      },
      "source": [
        "Coding begins here"
      ]
    },
    {
      "cell_type": "markdown",
      "metadata": {
        "id": "IL0QDMy3F7sL"
      },
      "source": [
        "### 1.\tDefine the environment in the following block"
      ]
    },
    {
      "cell_type": "markdown",
      "metadata": {
        "id": "RYwJPNLIF7sM"
      },
      "source": [
        "List the PEAS decription of the problem here in this markdown block"
      ]
    },
    {
      "cell_type": "markdown",
      "metadata": {
        "id": "XJ3cHp1IF7sM"
      },
      "source": [
        "Design the agent as PSA Agent(Problem Solving Agent)\n",
        "Clear Initial data structures to define the graph and variable declarations is expected\n",
        "IMPORTATANT: Write distinct code block as below"
      ]
    },
    {
      "cell_type": "code",
      "execution_count": 4,
      "metadata": {},
      "outputs": [],
      "source": [
        "import copy\n",
        "import math"
      ]
    },
    {
      "cell_type": "code",
      "execution_count": 5,
      "metadata": {
        "id": "osp61RsLF7sN"
      },
      "outputs": [],
      "source": [
        "#Code Block : Set Initial State (Must handle dynamic inputs)\n",
        "def get_initial_state(tent_matrix, food_availability):\n",
        "  \"\"\"\n",
        "  Returns initial state\n",
        "  \"\"\"\n",
        "  # Initial state: Requirement of each tent\n",
        "  initial_state = {}\n",
        "  for i, ele in enumerate(tent_matrix):\n",
        "    initial_state[f'tent{i+1}'] = {'adults': ele[0], 'children': ele[1]}\n",
        "\n",
        "  # Food Availability: Quantity of each food item available\n",
        "  initial_food_state = {\n",
        "                            'dhal': food_availability[0],\n",
        "                            'milk': food_availability[1],\n",
        "                            'flour': food_availability[2],\n",
        "                            'rice': food_availability[3],\n",
        "                            'bread': food_availability[4],\n",
        "                       }\n",
        "  return initial_state, initial_food_state"
      ]
    },
    {
      "cell_type": "code",
      "execution_count": 6,
      "metadata": {
        "id": "XODwoWZ0F7sO"
      },
      "outputs": [],
      "source": [
        "#Code Block : Set the matrix for transition & cost (as relevant for the given problem)\n",
        "tent_requirements_matrix = [\n",
        "    [3,6,9,9,2],\n",
        "    [12,0,36,36,0],\n",
        "    [2,9,6,6,3],\n",
        "    [4,0,12,12,0],\n",
        "    [3,6,9,9,2],\n",
        "    [2,3,6,6,1],\n",
        "    [2,9,6,6,3]\n",
        "]\n",
        "\n",
        "cost_matrix = [\n",
        "    [0,3,4,6,9,7,8],\n",
        "    [3,0,1,3,6,8,9],\n",
        "    [6,3,2,0,3,5,6],\n",
        "    [9,6,5,3,0,2,3],\n",
        "    [6,8,7,5,2,0,1],\n",
        "    [6,7,6,5,2,0,1],\n",
        "    [8,9,8,6,3,1,0]\n",
        "]"
      ]
    },
    {
      "cell_type": "code",
      "execution_count": 7,
      "metadata": {
        "id": "ro24Gaj7F7sO"
      },
      "outputs": [],
      "source": [
        "#Code Block : Write function to design the Transition Model/Successor function. Ideally this would be called while search algorithms are implemented\n",
        "def successor(state, food_state):\n",
        "    current_state = copy.deepcopy(state)\n",
        "    current_food_state = copy.deepcopy(food_state)\n",
        "    new_states = []\n",
        "\n",
        "    # Sort tents by remaining need in descending order\n",
        "    sorted_tents = sorted(current_state.items(), key=lambda x: x[1]['adults'] + x[1]['children'], reverse=True)\n",
        "\n",
        "    return sorted_tents\n",
        "\n",
        "def convert_needed_quantity_in_packets(amount, food_name):\n",
        "\n",
        "  if food_name in ['milk', 'bread', 'dhal']:\n",
        "    return int(amount)\n",
        "  elif food_name == 'rice':\n",
        "    return math.ceil(amount / 2.5)\n",
        "  else:\n",
        "    return math.ceil(amount / 3)\n",
        "\n",
        "def calculate_people_on_quantity(food_name, no_of_packets):\n",
        " \n",
        "  if food_name in ['dhal', 'bread']:\n",
        "    return int(no_of_packets)\n",
        "  elif food_name in ['flour', 'milk']:\n",
        "    return math.ceil(no_of_packets / 3)\n",
        "  else:\n",
        "    return math.ceil((no_of_packets * 2.5) / 3)"
      ]
    },
    {
      "cell_type": "code",
      "execution_count": 8,
      "metadata": {
        "id": "HIVPhrRWF7sO"
      },
      "outputs": [],
      "source": [
        "#Code block : Write fucntion to handle goal test (Must handle dynamic inputs). Ideally this would be called while search algorithms are implemented\n",
        "def is_goal_state(state, food_state):\n",
        "    return all(food == 0 for food in food_state.values())\n",
        "\n",
        "def heuristic(no_of_adults, no_of_children):\n",
        "    # commute requirements adults\n",
        "    req_adults_weight = (no_of_adults) + (no_of_adults * 3) + (no_of_adults * 3)\n",
        "    req_adults_commutes = math.ceil(req_adults_weight / 15)\n",
        "\n",
        "    # commute requirements children milk\n",
        "    req_children_milk = no_of_children * 3 \n",
        "    req_children_milk_commutes = math.ceil(req_children_milk / 15)\n",
        "\n",
        "    # commute requirements children bread\n",
        "    req_children_bread = no_of_children\n",
        "    req_bread_commutes = math.ceil(req_children_bread / 15)\n",
        "\n",
        "    # total_commutes \n",
        "    total_commutes = req_adults_commutes + req_children_milk_commutes + req_bread_commutes\n",
        "    return total_commutes"
      ]
    },
    {
      "attachments": {},
      "cell_type": "markdown",
      "metadata": {
        "id": "Z4QwDeX5F7sO"
      },
      "source": [
        "### 2.\tLocal Beam Search"
      ]
    },
    {
      "cell_type": "code",
      "execution_count": 9,
      "metadata": {
        "id": "zD_EPCHWF7sO"
      },
      "outputs": [],
      "source": [
        "#Code Block : Function for algorithm 1 implementation\n",
        "from queue import PriorityQueue\n",
        "\n",
        "def local_beam_search(initial_state, initial_food_state, beam_width):\n",
        "    # Taking initial state\n",
        "    current_state = initial_state\n",
        "    current_food_state = initial_food_state\n",
        "\n",
        "    # Data structure to store explored states\n",
        "    explored_states = list()\n",
        "\n",
        "    # Commits track\n",
        "    total_commuts = 0\n",
        "\n",
        "    # food distribution track\n",
        "    distributed_food = {}\n",
        "\n",
        "    successors = successor(current_state, current_food_state)\n",
        "    successors.sort(key=lambda x: heuristic(*x[1].values()), reverse=False)\n",
        "\n",
        "    n=len(successors)\n",
        "    idx=0\n",
        "\n",
        "    q=PriorityQueue(maxsize=beam_width)\n",
        "    for i in range(beam_width):\n",
        "        q.put((i,successors.pop(0)))\n",
        "        n-=1\n",
        "        idx+=1\n",
        "    \n",
        "    while not q.empty():\n",
        "        # Checking if current state is a goal state\n",
        "        if is_goal_state(current_state, current_food_state):\n",
        "            print(\"path has been found.\")\n",
        "            return explored_states, total_commuts, distributed_food\n",
        "        \n",
        "        # Fetching a successor with least heuristic value\n",
        "        item = q.get()\n",
        "        next_state, next_requirement = item[1]\n",
        "        print(f\"Chosen state for exploration: {next_state}\")\n",
        "\n",
        "        # Extracting number of adults and children\n",
        "        no_of_adults, no_of_children = next_requirement['adults'], next_requirement['children']\n",
        "\n",
        "        # Calculating requirement in packets\n",
        "        dhal_packets_required = no_of_adults\n",
        "        flour_packets_required = no_of_adults * 3 \n",
        "        rice_packets_required = math.ceil((no_of_adults * 2.5) / 3)\n",
        "        milk_packets_required = no_of_children * 3\n",
        "        bread_packets_required = no_of_children\n",
        "\n",
        "        # Updating the original food state\n",
        "        new_food_state = copy.deepcopy(current_food_state)\n",
        "        new_food_state['dhal'] = max((new_food_state['dhal'] - dhal_packets_required), 0)\n",
        "        new_food_state['milk'] = max((new_food_state['milk'] - milk_packets_required), 0)\n",
        "        new_food_state['flour'] = max((new_food_state['flour'] - flour_packets_required), 0)\n",
        "        new_food_state['rice'] = max((new_food_state['rice'] - rice_packets_required), 0)\n",
        "        new_food_state['bread'] = max((new_food_state['bread'] - bread_packets_required), 0)\n",
        "        \n",
        "        # Tracking distributed food\n",
        "        distributed_food[next_state] = {\n",
        "            \"dhal\": current_food_state['dhal'] - new_food_state['dhal'],\n",
        "            \"milk\": current_food_state['milk'] - new_food_state['milk'],\n",
        "            \"flour\": current_food_state['flour'] - new_food_state['flour'],\n",
        "            \"rice\": current_food_state['rice'] - new_food_state['rice'],\n",
        "            \"bread\": current_food_state['bread'] - new_food_state['bread']\n",
        "        }\n",
        "        print(f\"Distributed food in {next_state}: {distributed_food[next_state]}\")\n",
        "\n",
        "        if n:\n",
        "            q.put((idx, successors.pop(0)))\n",
        "            idx+=1\n",
        "            n-=1\n",
        "        explored_states.append(str(next_state))\n",
        "        total_commuts += heuristic(no_of_adults, no_of_children)\n",
        "    \n",
        "    return explored_states, total_commuts, distributed_food"
      ]
    },
    {
      "attachments": {},
      "cell_type": "markdown",
      "metadata": {
        "id": "KnbdDl6HF7sO"
      },
      "source": [
        "### 3.\tGreedy Best First Search"
      ]
    },
    {
      "cell_type": "code",
      "execution_count": 10,
      "metadata": {
        "id": "3HYh7-eJF7sP"
      },
      "outputs": [],
      "source": [
        "#Code Block : Function for algorithm 2 implementation\n",
        "def greedy_best_first_search(initial_state, initial_food_state):\n",
        "    # Taking initial state\n",
        "    current_state = initial_state\n",
        "    current_food_state = initial_food_state\n",
        "\n",
        "    # Data structure to store explored states\n",
        "    explored_states = list()\n",
        "\n",
        "    # Commits track\n",
        "    total_commuts = 0\n",
        "\n",
        "    # food distribution track\n",
        "    distributed_food = {}\n",
        "    while True:\n",
        "        # Checking if current state is a goal state\n",
        "        if is_goal_state(current_state, current_food_state):\n",
        "            print(\"path has been found.\")\n",
        "            return explored_states, total_commuts, distributed_food\n",
        "        \n",
        "        # Calculating heuristic value for successors\n",
        "        successors = successor(current_state, current_food_state)\n",
        "        successors.sort(key=lambda x: heuristic(*x[1].values()), reverse=False)\n",
        "\n",
        "        # Fetching a successor with least heuristic value\n",
        "        next_state, next_requirement = successors.pop(0)\n",
        "        print(f\"Chosen state for exploration: {next_state}\")\n",
        "\n",
        "        # Extracting number of adults and children\n",
        "        no_of_adults, no_of_children = next_requirement['adults'], next_requirement['children']\n",
        "\n",
        "        # Calculating requirement in packets\n",
        "        dhal_packets_required = no_of_adults\n",
        "        flour_packets_required = no_of_adults * 3 \n",
        "        rice_packets_required = math.ceil((no_of_adults * 2.5) / 3)\n",
        "        milk_packets_required = no_of_children * 3\n",
        "        bread_packets_required = no_of_children\n",
        "\n",
        "        # Updating the original food state\n",
        "        new_food_state = copy.deepcopy(current_food_state)\n",
        "        new_food_state['dhal'] = max((new_food_state['dhal'] - dhal_packets_required), 0)\n",
        "        new_food_state['milk'] = max((new_food_state['milk'] - milk_packets_required), 0)\n",
        "        new_food_state['flour'] = max((new_food_state['flour'] - flour_packets_required), 0)\n",
        "        new_food_state['rice'] = max((new_food_state['rice'] - rice_packets_required), 0)\n",
        "        new_food_state['bread'] = max((new_food_state['bread'] - bread_packets_required), 0)\n",
        "        \n",
        "        # Tracking distributed food\n",
        "        distributed_food[next_state] = {\n",
        "            \"dhal\": current_food_state['dhal'] - new_food_state['dhal'],\n",
        "            \"milk\": current_food_state['milk'] - new_food_state['milk'],\n",
        "            \"flour\": current_food_state['flour'] - new_food_state['flour'],\n",
        "            \"rice\": current_food_state['rice'] - new_food_state['rice'],\n",
        "            \"bread\": current_food_state['bread'] - new_food_state['bread']\n",
        "        }\n",
        "        print(f\"Distributed food in {next_state}: {distributed_food[next_state]}\")\n",
        "\n",
        "        # Removing chosen state from state transition as it is closed now\n",
        "        new_state = {k:v for k,v in current_state.items() if k != next_state}\n",
        "        current_state = new_state\n",
        "        current_food_state = new_food_state\n",
        "        explored_states.append(str(next_state))\n",
        "        total_commuts += heuristic(no_of_adults, no_of_children)"
      ]
    },
    {
      "cell_type": "code",
      "execution_count": null,
      "metadata": {},
      "outputs": [],
      "source": []
    },
    {
      "cell_type": "markdown",
      "metadata": {
        "id": "LEV2XHccF7sP"
      },
      "source": [
        "### DYNAMIC INPUT"
      ]
    },
    {
      "cell_type": "markdown",
      "metadata": {
        "id": "CylYRo_DF7sP"
      },
      "source": [
        "IMPORTANT : Dynamic Input must be got in this section. Display the possible states to choose from:\n",
        "This is applicable for all the relevent problems as mentioned in the question."
      ]
    },
    {
      "cell_type": "code",
      "execution_count": 11,
      "metadata": {
        "id": "Q5t1Lc-wF7sP"
      },
      "outputs": [],
      "source": [
        "#Code Block : Function & call to get inputs (start/end state)\n",
        "# Defining tent matrix representing input config\n",
        "tent_matrix = [\n",
        "    [3,2],\n",
        "    [12,0],\n",
        "    [2,3],\n",
        "    [4,0],\n",
        "    [3,2],\n",
        "    [2,1],\n",
        "    [2,3]\n",
        "]\n",
        "\n",
        "# Defining total food availability\n",
        "food_availability = [15, 28, 12, 20, 10]\n",
        "\n",
        "beam_width = 2\n",
        "\n",
        "def run_algorithm_return_states(tent_matrix, food_availability, algo_type):\n",
        "    # Fetching initial state based on above two data structures\n",
        "    initial_state, initial_food_state = get_initial_state(tent_matrix, food_availability)\n",
        "\n",
        "    # Invocation of the algorithm\n",
        "    if algo_type == \"greedy_best_first_search\":\n",
        "        path, total_commutes, distribution_of_food = greedy_best_first_search(initial_state, initial_food_state)\n",
        "    else:\n",
        "        path, total_commutes, distribution_of_food = local_beam_search(initial_state, initial_food_state, beam_width)\n",
        "\n",
        "    print(f\"Optimal path using greedy best first search: {' --> '.join(path)}\")\n",
        "    print(f\"Total commutes required for the bot to distribute food: {total_commutes}\")"
      ]
    },
    {
      "cell_type": "markdown",
      "metadata": {
        "id": "xsfOP81lF7sP"
      },
      "source": [
        "### 4.\tCalling the search algorithms\n",
        "(For bidirectional search in below sections first part can be used as per Hint provided. Under second section other combinations as per Hint or your choice of 2 algorithms can be called .As an analyst suggest suitable approximation in the comparitive analysis section)"
      ]
    },
    {
      "cell_type": "code",
      "execution_count": 16,
      "metadata": {
        "id": "Og5zI9thF7sP"
      },
      "outputs": [
        {
          "name": "stdout",
          "output_type": "stream",
          "text": [
            "Chosen state for exploration: tent4\n",
            "Distributed food in tent4: {'dhal': 4, 'milk': 0, 'flour': 12, 'rice': 4, 'bread': 0}\n",
            "Chosen state for exploration: tent3\n",
            "Distributed food in tent3: {'dhal': 2, 'milk': 9, 'flour': 6, 'rice': 2, 'bread': 3}\n",
            "Chosen state for exploration: tent7\n",
            "Distributed food in tent7: {'dhal': 2, 'milk': 9, 'flour': 6, 'rice': 2, 'bread': 3}\n",
            "Chosen state for exploration: tent6\n",
            "Distributed food in tent6: {'dhal': 2, 'milk': 3, 'flour': 6, 'rice': 2, 'bread': 1}\n",
            "Chosen state for exploration: tent1\n",
            "Distributed food in tent1: {'dhal': 3, 'milk': 6, 'flour': 9, 'rice': 3, 'bread': 2}\n",
            "Chosen state for exploration: tent5\n",
            "Distributed food in tent5: {'dhal': 3, 'milk': 6, 'flour': 9, 'rice': 3, 'bread': 2}\n",
            "Chosen state for exploration: tent2\n",
            "Distributed food in tent2: {'dhal': 12, 'milk': 0, 'flour': 12, 'rice': 10, 'bread': 0}\n",
            "Optimal path using greedy best first search: tent4 --> tent3 --> tent7 --> tent6 --> tent1 --> tent5 --> tent2\n",
            "Total commutes required for the bot to distribute food: 25\n"
          ]
        }
      ],
      "source": [
        "#Invoke algorithm 1 (Should Print the solution, path, cost etc., (As mentioned in the problem))\n",
        "run_algorithm_return_states(tent_matrix, food_availability, \"local_beam_search\")"
      ]
    },
    {
      "cell_type": "code",
      "execution_count": 13,
      "metadata": {
        "id": "u3MJeA6eF7sP"
      },
      "outputs": [
        {
          "name": "stdout",
          "output_type": "stream",
          "text": [
            "Chosen state for exploration: tent4\n",
            "Distributed food in tent4: {'dhal': 4, 'milk': 0, 'flour': 12, 'rice': 4, 'bread': 0}\n",
            "Chosen state for exploration: tent3\n",
            "Distributed food in tent3: {'dhal': 2, 'milk': 9, 'flour': 0, 'rice': 2, 'bread': 3}\n",
            "Chosen state for exploration: tent7\n",
            "Distributed food in tent7: {'dhal': 2, 'milk': 9, 'flour': 0, 'rice': 2, 'bread': 3}\n",
            "Chosen state for exploration: tent6\n",
            "Distributed food in tent6: {'dhal': 2, 'milk': 3, 'flour': 0, 'rice': 2, 'bread': 1}\n",
            "Chosen state for exploration: tent1\n",
            "Distributed food in tent1: {'dhal': 3, 'milk': 6, 'flour': 0, 'rice': 3, 'bread': 2}\n",
            "Chosen state for exploration: tent5\n",
            "Distributed food in tent5: {'dhal': 2, 'milk': 1, 'flour': 0, 'rice': 3, 'bread': 1}\n",
            "Chosen state for exploration: tent2\n",
            "Distributed food in tent2: {'dhal': 0, 'milk': 0, 'flour': 0, 'rice': 4, 'bread': 0}\n",
            "path has been found.\n",
            "Optimal path using greedy best first search: tent4 --> tent3 --> tent7 --> tent6 --> tent1 --> tent5 --> tent2\n",
            "Total commutes required for the bot to distribute food: 25\n"
          ]
        }
      ],
      "source": [
        "#Invoke algorithm 2 (Should Print the solution, path, cost etc., (As mentioned in the problem))\n",
        "run_algorithm_return_states(tent_matrix, food_availability, \"greedy_best_first_search\")"
      ]
    },
    {
      "cell_type": "markdown",
      "metadata": {
        "id": "TOU3Rem6F7sQ"
      },
      "source": [
        "### 5.\tComparitive Analysis"
      ]
    },
    {
      "cell_type": "code",
      "execution_count": 14,
      "metadata": {
        "id": "HG6fWwiIF7sQ"
      },
      "outputs": [
        {
          "name": "stdout",
          "output_type": "stream",
          "text": [
            "Local Beam Search Algorithm Analysis:\n",
            "Time Complexity: O(I * (N * M log M + K))\n",
            "Space Complexity: O(K * (M + N) + Tracking Distributed Food)\n",
            "where, K is the beam width, N is number of tents, M is number of food items and I is number of iterations\n"
          ]
        }
      ],
      "source": [
        "#Code Block : Print the Time & Space complexity of algorithm 1\n",
        "print(\"Local Beam Search Algorithm Analysis:\")\n",
        "print(\"Time Complexity: O(I * (N * M log M + K))\")\n",
        "print(\"Space Complexity: O(K * (M + N) + Tracking Distributed Food)\")\n",
        "print(\"where, K is the beam width, N is number of tents, M is number of food items and I is number of iterations\")"
      ]
    },
    {
      "cell_type": "code",
      "execution_count": 15,
      "metadata": {
        "id": "xMButLKCF7sQ"
      },
      "outputs": [
        {
          "name": "stdout",
          "output_type": "stream",
          "text": [
            "Greedy Best First Search Algorithm Analysis:\n",
            "Time Complexity: O(N * (N log N) * 2^N)\n",
            "Space Complexity: O(N * (M + K) + N)\n",
            "where, N is the number of tents, M is the number of adults, and K is the number of children.\n"
          ]
        }
      ],
      "source": [
        "#Code Block : Print the Time & Space complexity of algorithm 2\n",
        "print(\"Greedy Best First Search Algorithm Analysis:\")\n",
        "print(\"Time Complexity: O(N * (N log N) * 2^N)\")\n",
        "print(\"Space Complexity: O(N * (M + K) + N)\")\n",
        "print(\"where, N is the number of tents, M is the number of adults, and K is the number of children.\")"
      ]
    },
    {
      "cell_type": "markdown",
      "metadata": {
        "id": "y2nXwAlsF7sQ"
      },
      "source": [
        "### 6.\tProvide your comparitive analysis or findings in no more than 3 lines in below section"
      ]
    },
    {
      "attachments": {},
      "cell_type": "markdown",
      "metadata": {
        "id": "si483-zoF7sQ"
      },
      "source": [
        "Comparison : \n",
        "* Greedy Best-First Search explores the search space based on a <b>single best</b> heuristic value, while Local Beam Search explores <b>multiple states</b> in parallel with the hope of finding better solutions.\n",
        "\n",
        "* Greedy Best-First Search can get stuck in local optima, while Local Beam Search has a better chance of escaping local optima with multiple beams.\n",
        "\n",
        "* Greedy Best-First Search may be more memory-efficient than Local Beam Search for <b>small</b> problem instances, but Local Beam Search can handle <b>larger</b> problem instances more effectively.\n",
        "\n",
        "* Neither algorithm guarantees an optimal solution, and the performance of both can vary depending on the problem's characteristics and the choice of heuristics.\n"
      ]
    },
    {
      "cell_type": "markdown",
      "metadata": {},
      "source": []
    }
  ],
  "metadata": {
    "colab": {
      "provenance": []
    },
    "kernelspec": {
      "display_name": "Python 3",
      "language": "python",
      "name": "python3"
    },
    "language_info": {
      "codemirror_mode": {
        "name": "ipython",
        "version": 3
      },
      "file_extension": ".py",
      "mimetype": "text/x-python",
      "name": "python",
      "nbconvert_exporter": "python",
      "pygments_lexer": "ipython3",
      "version": "3.10.1"
    },
    "vscode": {
      "interpreter": {
        "hash": "31f2aee4e71d21fbe5cf8b01ff0e069b9275f58929596ceb00d14d90e3e16cd6"
      }
    }
  },
  "nbformat": 4,
  "nbformat_minor": 0
}
